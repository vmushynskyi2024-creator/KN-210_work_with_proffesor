{
 "cells": [
  {
   "cell_type": "code",
   "execution_count": 1,
   "id": "7a5ed48f",
   "metadata": {},
   "outputs": [
    {
     "name": "stdout",
     "output_type": "stream",
     "text": [
      "Vasyl start programming at 2025-10-05 18:38:28.222025. Lviv is the best city!\n"
     ]
    }
   ],
   "source": [
    "from datetime import datetime\n",
    "name = \"Vasyl\"\n",
    "location = \"Lviv\"\n",
    "\n",
    "print(f\"{name} start programming at {datetime.now()}. {location} is the best city!\")\n"
   ]
  },
  {
   "cell_type": "markdown",
   "id": "ed035244",
   "metadata": {},
   "source": [
    "## Це моя перша програма в Python, вона показує дату та час в реальному часі та змінні з моїм Ім'ям та локацією. ##"
   ]
  },
  {
   "cell_type": "markdown",
   "id": "02c17648",
   "metadata": {},
   "source": [
    "## Програма від АІ та її пояснення: ##\n",
    "\n",
    "Ця програма демонструє найпростіший спосіб взаємодії AI з користувачем українською мовою.\n",
    "\n",
    "- `input()` отримує ім’я користувача.\n",
    "- `print()` виводить повідомлення та вітає користувача.\n",
    "- Програма не має умов чи складних операцій, вона просто демонструє перший контакт між людиною і AI.\n",
    "\n",
    "Таким чином, ця програма символізує перший крок AI до спілкування з людьми.\n"
   ]
  },
  {
   "cell_type": "code",
   "execution_count": 1,
   "id": "243c51c5",
   "metadata": {},
   "outputs": [
    {
     "name": "stdout",
     "output_type": "stream",
     "text": [
      "Радий зустріти тебе, !\n",
      "Я – штучний інтелект і щойно навчився писати свій перший код 😊\n"
     ]
    }
   ],
   "source": [
    "name = input(\"Привіт! Як тебе звати? \")\n",
    "\n",
    "print(f\"Радий зустріти тебе, {name}!\")\n",
    "print(\"Я – штучний інтелект і щойно навчився писати свій перший код 😊\")"
   ]
  }
 ],
 "metadata": {
  "kernelspec": {
   "display_name": "Python 3",
   "language": "python",
   "name": "python3"
  },
  "language_info": {
   "codemirror_mode": {
    "name": "ipython",
    "version": 3
   },
   "file_extension": ".py",
   "mimetype": "text/x-python",
   "name": "python",
   "nbconvert_exporter": "python",
   "pygments_lexer": "ipython3",
   "version": "3.13.7"
  }
 },
 "nbformat": 4,
 "nbformat_minor": 5
}
