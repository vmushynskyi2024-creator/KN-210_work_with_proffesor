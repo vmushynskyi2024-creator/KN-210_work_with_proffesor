{
 "cells": [
  {
   "cell_type": "code",
   "execution_count": 1,
   "id": "4de40d5d",
   "metadata": {},
   "outputs": [
    {
     "name": "stdout",
     "output_type": "stream",
     "text": [
      "Привіт, світ!\n",
      "25\n",
      "[1, 2, 3, 'Python']\n",
      "{\"ім'я\": 'Анна', 'вік': 19}\n",
      "{1, 2, 3}\n"
     ]
    }
   ],
   "source": [
    "# Приклади основних типів даних\n",
    "\n",
    "a = \"Привіт, світ!\"        # рядок (str)\n",
    "b = 25                     # ціле число (int)\n",
    "c = [1, 2, 3, \"Python\"]    # список (list)\n",
    "d = {\"ім'я\": \"Анна\", \"вік\": 19}  # словник (dict)\n",
    "e = {1, 2, 3}              # множина (set)\n",
    "\n",
    "print(a)\n",
    "print(b)\n",
    "print(c)\n",
    "print(d)\n",
    "print(e)\n"
   ]
  },
  {
   "cell_type": "code",
   "execution_count": null,
   "id": "130b14fe",
   "metadata": {},
   "outputs": [
    {
     "name": "stdout",
     "output_type": "stream",
     "text": [
      "Приклади константи 1: True\n",
      "Приклади константи 2: None\n",
      "Приклади константи 3: False\n",
      "\n",
      "Зарезервовані слова в Python:\n",
      "['False', 'None', 'True', 'and', 'as', 'assert', 'async', 'await', 'break', 'class', 'continue', 'def', 'del', 'elif', 'else', 'except', 'finally', 'for', 'from', 'global', 'if', 'import', 'in', 'is', 'lambda', 'nonlocal', 'not', 'or', 'pass', 'raise', 'return', 'try', 'while', 'with', 'yield']\n"
     ]
    }
   ],
   "source": [
    "# Приклади вбудованих констант\n",
    "\n",
    "print(\"Приклади константи 1:\", True)\n",
    "print(\"Приклади константи 2:\", None)\n",
    "print(\"Приклади константи 3:\", False)\n",
    "\n",
    "# Виведення зарезервованих слів в Python\n",
    "import keyword\n",
    "print(\"\\nЗарезервовані слова в Python:\")\n",
    "print(keyword.kwlist)"
   ]
  },
  {
   "cell_type": "code",
   "execution_count": 5,
   "id": "e8a9ec65",
   "metadata": {},
   "outputs": [
    {
     "name": "stdout",
     "output_type": "stream",
     "text": [
      "Робота функціЇ len(): 6\n",
      "Робота функціЇ max(): 20\n",
      "Робота функціЇ sum(): 15\n"
     ]
    }
   ],
   "source": [
    "print(\"Робота функціЇ len():\", len(\"Python\"))  # рахує кількість символів у рядку \n",
    "print(\"Робота функціЇ max():\", max(10, 20, 5))  # знаходить найбільше число\n",
    "print(\"Робота функціЇ sum():\", sum([1, 2, 3, 4, 5]))  # рахує суму елементів у списку"
   ]
  },
  {
   "cell_type": "code",
   "execution_count": 7,
   "id": "2b59d0c3",
   "metadata": {},
   "outputs": [
    {
     "name": "stdout",
     "output_type": "stream",
     "text": [
      "Елемент списку: 1\n",
      "Елемент списку: 2\n",
      "Елемент списку: 3\n",
      "Елемент списку: 4\n",
      "Елемент списку: 5\n"
     ]
    }
   ],
   "source": [
    "# Цикл for з ітерацією по списку\n",
    "\n",
    "for i in [1, 2, 3, 4, 5]:\n",
    "    print(\"Елемент списку:\", i)\n"
   ]
  },
  {
   "cell_type": "code",
   "execution_count": 8,
   "id": "7a813f49",
   "metadata": {},
   "outputs": [
    {
     "name": "stdout",
     "output_type": "stream",
     "text": [
      "Поточне значення лічильника: 0\n",
      "Поточне значення лічильника: 1\n",
      "Поточне значення лічильника: 2\n",
      "Поточне значення лічильника: 3\n",
      "Поточне значення лічильника: 4\n"
     ]
    }
   ],
   "source": [
    "count = 0\n",
    "while count < 5:\n",
    "    print(\"Поточне значення лічильника:\", count)\n",
    "    count += 1"
   ]
  },
  {
   "cell_type": "code",
   "execution_count": 11,
   "id": "caea6793",
   "metadata": {},
   "outputs": [
    {
     "name": "stdout",
     "output_type": "stream",
     "text": [
      "Елемент з індексом 0 має значення 10\n",
      "Елемент з індексом 1 має значення 20\n",
      "Елемент з індексом 2 має значення 30\n",
      "Елемент з індексом 3 має значення 40\n",
      "Цикл for завершено без переривання.\n"
     ]
    }
   ],
   "source": [
    "# Приклад використання циклу for з блоком else\n",
    "numbers = [10, 20, 30, 40]\n",
    "\n",
    "for num in range(len(numbers)):\n",
    "    print(f\"Елемент з індексом {num} має значення {numbers[num]}\")\n",
    "else:\n",
    "        print(\"Цикл for завершено без переривання.\")"
   ]
  },
  {
   "cell_type": "code",
   "execution_count": 12,
   "id": "f5057f7a",
   "metadata": {},
   "outputs": [
    {
     "name": "stdout",
     "output_type": "stream",
     "text": [
      "Ви ввели додатнє число.\n",
      "Перевірка завершена!\n"
     ]
    }
   ],
   "source": [
    "number = int(input(\"Введіть число: \"))\n",
    "\n",
    "if number > 0:\n",
    "    print(\"Ви ввели додатнє число.\")\n",
    "elif number < 0:\n",
    "    print(\"Ви ввели від'ємне число.\")\n",
    "else:\n",
    "    print(\"Ви ввели нуль.\")\n",
    "\n",
    "print(\"Перевірка завершена!\")"
   ]
  },
  {
   "cell_type": "code",
   "execution_count": 14,
   "id": "8bc08dc8",
   "metadata": {},
   "outputs": [
    {
     "name": "stdout",
     "output_type": "stream",
     "text": [
      "Помилка! Потрібно вводити тільки числа.\n",
      "Блок finally виконується завжди — незалежно від помилок.\n"
     ]
    }
   ],
   "source": [
    "# Приклад роботи конструкції try-except-finally\n",
    "\n",
    "try:\n",
    "    x = int(input(\"Введіть число: \"))\n",
    "    result = 10 / x\n",
    "    print(\"Результат ділення:\", result)\n",
    "\n",
    "except ZeroDivisionError:\n",
    "    print(\"Помилка! Ділення на нуль неможливе.\")\n",
    "\n",
    "except ValueError:\n",
    "    print(\"Помилка! Потрібно вводити тільки числа.\")\n",
    "    \n",
    "finally:\n",
    "    print(\"Блок finally виконується завжди — незалежно від помилок.\")\n"
   ]
  },
  {
   "cell_type": "code",
   "execution_count": 15,
   "id": "b749bb88",
   "metadata": {},
   "outputs": [
    {
     "name": "stdout",
     "output_type": "stream",
     "text": [
      "Вміст файлу:\n",
      "Це приклад використання контекст-менеджера with у Python.\n",
      "Файл автоматично закриється після виходу з блоку with.\n",
      "\n"
     ]
    }
   ],
   "source": [
    "# Приклад використання контекст-менеджера with\n",
    "\n",
    "# Створимо новий файл і запишемо в нього текст\n",
    "with open(\"example.txt\", \"w\") as file:\n",
    "    file.write(\"Це приклад використання контекст-менеджера with у Python.\\n\")\n",
    "    file.write(\"Файл автоматично закриється після виходу з блоку with.\\n\")\n",
    "\n",
    "# Зчитаємо вміст файлу\n",
    "with open(\"example.txt\", \"r\") as file:\n",
    "    content = file.read()\n",
    "    print(\"Вміст файлу:\")\n",
    "    print(content)\n"
   ]
  },
  {
   "cell_type": "code",
   "execution_count": 16,
   "id": "39b7e049",
   "metadata": {},
   "outputs": [
    {
     "name": "stdout",
     "output_type": "stream",
     "text": [
      "Результат звичайної функції: 25\n",
      "Результат лямбда-функції: 25\n",
      "Список у зворотному порядку: [4, 3, 2, 1]\n"
     ]
    }
   ],
   "source": [
    "# Приклад використання лямбда-функцій у Python\n",
    "\n",
    "# Звичайна функція\n",
    "def square(x):\n",
    "    return x ** 2\n",
    "\n",
    "# Те саме, але через лямбду\n",
    "square_lambda = lambda x: x ** 2\n",
    "\n",
    "print(\"Результат звичайної функції:\", square(5))\n",
    "print(\"Результат лямбда-функції:\", square_lambda(5))\n",
    "\n",
    "# Ще приклад: лямбда у функції sorted()\n",
    "numbers = [3, 1, 4, 2]\n",
    "sorted_numbers = sorted(numbers, key=lambda n: -n)\n",
    "print(\"Список у зворотному порядку:\", sorted_numbers)\n"
   ]
  }
 ],
 "metadata": {
  "kernelspec": {
   "display_name": "Python 3",
   "language": "python",
   "name": "python3"
  },
  "language_info": {
   "codemirror_mode": {
    "name": "ipython",
    "version": 3
   },
   "file_extension": ".py",
   "mimetype": "text/x-python",
   "name": "python",
   "nbconvert_exporter": "python",
   "pygments_lexer": "ipython3",
   "version": "3.13.7"
  }
 },
 "nbformat": 4,
 "nbformat_minor": 5
}
